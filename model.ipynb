{
 "cells": [
  {
   "cell_type": "code",
   "execution_count": 1,
   "metadata": {},
   "outputs": [
    {
     "data": {
      "text/html": [
       "<div>\n",
       "<style scoped>\n",
       "    .dataframe tbody tr th:only-of-type {\n",
       "        vertical-align: middle;\n",
       "    }\n",
       "\n",
       "    .dataframe tbody tr th {\n",
       "        vertical-align: top;\n",
       "    }\n",
       "\n",
       "    .dataframe thead th {\n",
       "        text-align: right;\n",
       "    }\n",
       "</style>\n",
       "<table border=\"1\" class=\"dataframe\">\n",
       "  <thead>\n",
       "    <tr style=\"text-align: right;\">\n",
       "      <th></th>\n",
       "      <th>A1_Score</th>\n",
       "      <th>A2_Score</th>\n",
       "      <th>A3_Score</th>\n",
       "      <th>A4_Score</th>\n",
       "      <th>A5_Score</th>\n",
       "      <th>A6_Score</th>\n",
       "      <th>A7_Score</th>\n",
       "      <th>A8_Score</th>\n",
       "      <th>A9_Score</th>\n",
       "      <th>A10_Score</th>\n",
       "      <th>...</th>\n",
       "      <th>gender</th>\n",
       "      <th>ethnicity</th>\n",
       "      <th>jundice</th>\n",
       "      <th>austim</th>\n",
       "      <th>contry_of_res</th>\n",
       "      <th>used_app_before</th>\n",
       "      <th>result</th>\n",
       "      <th>age_desc</th>\n",
       "      <th>relation</th>\n",
       "      <th>Class/ASD</th>\n",
       "    </tr>\n",
       "  </thead>\n",
       "  <tbody>\n",
       "    <tr>\n",
       "      <th>0</th>\n",
       "      <td>1</td>\n",
       "      <td>1</td>\n",
       "      <td>1</td>\n",
       "      <td>1</td>\n",
       "      <td>0</td>\n",
       "      <td>0</td>\n",
       "      <td>1</td>\n",
       "      <td>1</td>\n",
       "      <td>0</td>\n",
       "      <td>0</td>\n",
       "      <td>...</td>\n",
       "      <td>f</td>\n",
       "      <td>White-European</td>\n",
       "      <td>no</td>\n",
       "      <td>no</td>\n",
       "      <td>'United States'</td>\n",
       "      <td>no</td>\n",
       "      <td>6</td>\n",
       "      <td>'18 and more'</td>\n",
       "      <td>Self</td>\n",
       "      <td>NO</td>\n",
       "    </tr>\n",
       "    <tr>\n",
       "      <th>1</th>\n",
       "      <td>1</td>\n",
       "      <td>1</td>\n",
       "      <td>0</td>\n",
       "      <td>1</td>\n",
       "      <td>0</td>\n",
       "      <td>0</td>\n",
       "      <td>0</td>\n",
       "      <td>1</td>\n",
       "      <td>0</td>\n",
       "      <td>1</td>\n",
       "      <td>...</td>\n",
       "      <td>m</td>\n",
       "      <td>Latino</td>\n",
       "      <td>no</td>\n",
       "      <td>yes</td>\n",
       "      <td>Brazil</td>\n",
       "      <td>no</td>\n",
       "      <td>5</td>\n",
       "      <td>'18 and more'</td>\n",
       "      <td>Self</td>\n",
       "      <td>NO</td>\n",
       "    </tr>\n",
       "    <tr>\n",
       "      <th>2</th>\n",
       "      <td>1</td>\n",
       "      <td>1</td>\n",
       "      <td>0</td>\n",
       "      <td>1</td>\n",
       "      <td>1</td>\n",
       "      <td>0</td>\n",
       "      <td>1</td>\n",
       "      <td>1</td>\n",
       "      <td>1</td>\n",
       "      <td>1</td>\n",
       "      <td>...</td>\n",
       "      <td>m</td>\n",
       "      <td>Latino</td>\n",
       "      <td>yes</td>\n",
       "      <td>yes</td>\n",
       "      <td>Spain</td>\n",
       "      <td>no</td>\n",
       "      <td>8</td>\n",
       "      <td>'18 and more'</td>\n",
       "      <td>Parent</td>\n",
       "      <td>YES</td>\n",
       "    </tr>\n",
       "    <tr>\n",
       "      <th>3</th>\n",
       "      <td>1</td>\n",
       "      <td>1</td>\n",
       "      <td>0</td>\n",
       "      <td>1</td>\n",
       "      <td>0</td>\n",
       "      <td>0</td>\n",
       "      <td>1</td>\n",
       "      <td>1</td>\n",
       "      <td>0</td>\n",
       "      <td>1</td>\n",
       "      <td>...</td>\n",
       "      <td>f</td>\n",
       "      <td>White-European</td>\n",
       "      <td>no</td>\n",
       "      <td>yes</td>\n",
       "      <td>'United States'</td>\n",
       "      <td>no</td>\n",
       "      <td>6</td>\n",
       "      <td>'18 and more'</td>\n",
       "      <td>Self</td>\n",
       "      <td>NO</td>\n",
       "    </tr>\n",
       "    <tr>\n",
       "      <th>4</th>\n",
       "      <td>1</td>\n",
       "      <td>0</td>\n",
       "      <td>0</td>\n",
       "      <td>0</td>\n",
       "      <td>0</td>\n",
       "      <td>0</td>\n",
       "      <td>0</td>\n",
       "      <td>1</td>\n",
       "      <td>0</td>\n",
       "      <td>0</td>\n",
       "      <td>...</td>\n",
       "      <td>f</td>\n",
       "      <td>?</td>\n",
       "      <td>no</td>\n",
       "      <td>no</td>\n",
       "      <td>Egypt</td>\n",
       "      <td>no</td>\n",
       "      <td>2</td>\n",
       "      <td>'18 and more'</td>\n",
       "      <td>?</td>\n",
       "      <td>NO</td>\n",
       "    </tr>\n",
       "  </tbody>\n",
       "</table>\n",
       "<p>5 rows × 21 columns</p>\n",
       "</div>"
      ],
      "text/plain": [
       "   A1_Score  A2_Score  A3_Score  A4_Score  A5_Score  A6_Score  A7_Score  \\\n",
       "0         1         1         1         1         0         0         1   \n",
       "1         1         1         0         1         0         0         0   \n",
       "2         1         1         0         1         1         0         1   \n",
       "3         1         1         0         1         0         0         1   \n",
       "4         1         0         0         0         0         0         0   \n",
       "\n",
       "   A8_Score  A9_Score  A10_Score  ... gender       ethnicity jundice austim  \\\n",
       "0         1         0          0  ...      f  White-European      no     no   \n",
       "1         1         0          1  ...      m          Latino      no    yes   \n",
       "2         1         1          1  ...      m          Latino     yes    yes   \n",
       "3         1         0          1  ...      f  White-European      no    yes   \n",
       "4         1         0          0  ...      f               ?      no     no   \n",
       "\n",
       "     contry_of_res used_app_before result       age_desc relation Class/ASD  \n",
       "0  'United States'              no      6  '18 and more'     Self        NO  \n",
       "1           Brazil              no      5  '18 and more'     Self        NO  \n",
       "2            Spain              no      8  '18 and more'   Parent       YES  \n",
       "3  'United States'              no      6  '18 and more'     Self        NO  \n",
       "4            Egypt              no      2  '18 and more'        ?        NO  \n",
       "\n",
       "[5 rows x 21 columns]"
      ]
     },
     "execution_count": 1,
     "metadata": {},
     "output_type": "execute_result"
    }
   ],
   "source": [
    "# Load dataset\n",
    "import pandas as pd\n",
    "columns = ['A1_Score', 'A2_Score', 'A3_Score', 'A4_Score', 'A5_Score', \n",
    "            'A6_Score', 'A7_Score', 'A8_Score', 'A9_Score', 'A10_Score',\n",
    "            'age', 'gender', 'ethnicity', 'jundice', 'austim', 'contry_of_res', \n",
    "            'used_app_before', 'result', 'age_desc', 'relation', 'Class/ASD']\n",
    "\n",
    "df = pd.read_csv('Autism-Adult-Data.csv', names=columns)\n",
    "df.head()"
   ]
  },
  {
   "cell_type": "code",
   "execution_count": 2,
   "metadata": {},
   "outputs": [
    {
     "data": {
      "text/plain": [
       "(704, 21)"
      ]
     },
     "execution_count": 2,
     "metadata": {},
     "output_type": "execute_result"
    }
   ],
   "source": [
    "df.shape"
   ]
  },
  {
   "cell_type": "code",
   "execution_count": 3,
   "metadata": {},
   "outputs": [
    {
     "name": "stdout",
     "output_type": "stream",
     "text": [
      "A1_Score uniqe==> [1 0]\n",
      "\n",
      "A2_Score uniqe==> [1 0]\n",
      "\n",
      "A3_Score uniqe==> [1 0]\n",
      "\n",
      "A4_Score uniqe==> [1 0]\n",
      "\n",
      "A5_Score uniqe==> [0 1]\n",
      "\n",
      "A6_Score uniqe==> [0 1]\n",
      "\n",
      "A7_Score uniqe==> [1 0]\n",
      "\n",
      "A8_Score uniqe==> [1 0]\n",
      "\n",
      "A9_Score uniqe==> [0 1]\n",
      "\n",
      "A10_Score uniqe==> [0 1]\n",
      "\n",
      "age uniqe==> ['26' '24' '27' '35' '40' '36' '17' '64' '29' '33' '18' '31' '30' '34'\n",
      " '38' '42' '43' '48' '37' '55' '50' '53' '20' '28' '21' '383' '47' '32'\n",
      " '44' '?' '19' '58' '45' '22' '39' '25' '23' '54' '60' '41' '46' '56' '61'\n",
      " '59' '52' '49' '51']\n",
      "\n",
      "gender uniqe==> ['f' 'm']\n",
      "\n",
      "ethnicity uniqe==> ['White-European' 'Latino' '?' 'Others' 'Black' 'Asian'\n",
      " \"'Middle Eastern '\" 'Pasifika' \"'South Asian'\" 'Hispanic' 'Turkish'\n",
      " 'others']\n",
      "\n",
      "jundice uniqe==> ['no' 'yes']\n",
      "\n",
      "austim uniqe==> ['no' 'yes']\n",
      "\n",
      "contry_of_res uniqe==> [\"'United States'\" 'Brazil' 'Spain' 'Egypt' \"'New Zealand'\" 'Bahamas'\n",
      " 'Burundi' 'Austria' 'Argentina' 'Jordan' 'Ireland'\n",
      " \"'United Arab Emirates'\" 'Afghanistan' 'Lebanon' \"'United Kingdom'\"\n",
      " \"'South Africa'\" 'Italy' 'Pakistan' 'Bangladesh' 'Chile' 'France' 'China'\n",
      " 'Australia' 'Canada' \"'Saudi Arabia'\" 'Netherlands' 'Romania' 'Sweden'\n",
      " 'Tonga' 'Oman' 'India' 'Philippines' \"'Sri Lanka'\" \"'Sierra Leone'\"\n",
      " 'Ethiopia' \"'Viet Nam'\" 'Iran' \"'Costa Rica'\" 'Germany' 'Mexico' 'Russia'\n",
      " 'Armenia' 'Iceland' 'Nicaragua' \"'Hong Kong'\" 'Japan' 'Ukraine'\n",
      " 'Kazakhstan' 'AmericanSamoa' 'Uruguay' 'Serbia' 'Portugal' 'Malaysia'\n",
      " 'Ecuador' 'Niger' 'Belgium' 'Bolivia' 'Aruba' 'Finland' 'Turkey' 'Nepal'\n",
      " 'Indonesia' 'Angola' 'Azerbaijan' 'Iraq' \"'Czech Republic'\" 'Cyprus']\n",
      "\n",
      "used_app_before uniqe==> ['no' 'yes']\n",
      "\n",
      "result uniqe==> [ 6  5  8  2  9 10  4  3  0  1  7]\n",
      "\n",
      "age_desc uniqe==> [\"'18 and more'\"]\n",
      "\n",
      "relation uniqe==> ['Self' 'Parent' '?' \"'Health care professional'\" 'Relative' 'Others']\n",
      "\n",
      "Class/ASD uniqe==> ['NO' 'YES']\n",
      "\n"
     ]
    }
   ],
   "source": [
    "for column in df.columns:\n",
    "    print(f'{column} uniqe==> {df[column].unique()}\\n')"
   ]
  },
  {
   "cell_type": "code",
   "execution_count": 4,
   "metadata": {},
   "outputs": [
    {
     "data": {
      "text/plain": [
       "array(['Self', 'Parent', 'Others', \"'Health care professional'\",\n",
       "       'Relative'], dtype=object)"
      ]
     },
     "execution_count": 4,
     "metadata": {},
     "output_type": "execute_result"
    }
   ],
   "source": [
    "# change ? with Others in relation column\n",
    "df['relation'] = df['relation'].replace(\"?\", \"Others\")\n",
    "df['relation'].unique()"
   ]
  },
  {
   "cell_type": "code",
   "execution_count": 5,
   "metadata": {},
   "outputs": [
    {
     "data": {
      "text/plain": [
       "array(['White-European', 'Latino', 'Others', 'Black', 'Asian',\n",
       "       \"'Middle Eastern '\", 'Pasifika', \"'South Asian'\", 'Hispanic',\n",
       "       'Turkish'], dtype=object)"
      ]
     },
     "execution_count": 5,
     "metadata": {},
     "output_type": "execute_result"
    }
   ],
   "source": [
    "# change ? with Others and others with Others in ethnicity column\n",
    "df['ethnicity'] = df['ethnicity'].replace(\"?\", \"Others\")\n",
    "df['ethnicity'] = df['ethnicity'].replace(\"others\", \"Others\")\n",
    "df['ethnicity'].unique()"
   ]
  },
  {
   "cell_type": "code",
   "execution_count": 6,
   "metadata": {},
   "outputs": [
    {
     "data": {
      "text/plain": [
       "array([26, 24, 27, 35, 40, 36, 17, 64, 29, 33, 18, 31, 30, 34, 38, 42, 43,\n",
       "       48, 37, 55, 50, 53, 20, 28, 21, 47, 32, 44, 19, 58, 45, 22, 39, 25,\n",
       "       23, 54, 60, 41, 46, 56, 61, 59, 52, 49, 51])"
      ]
     },
     "execution_count": 6,
     "metadata": {},
     "output_type": "execute_result"
    }
   ],
   "source": [
    "# change ? with 0, dtype of age column and change 0, 383 with mean of column with is 29\n",
    "df['age'] = df['age'].replace(\"?\", '0')\n",
    "df['age'] = df['age'].astype(int)\n",
    "df['age'] = df['age'].replace(0, int(df['age'].mean()))\n",
    "df['age'] = df['age'].replace(383, int(df['age'].mean()))\n",
    "df['age'].unique()"
   ]
  },
  {
   "cell_type": "code",
   "execution_count": 7,
   "metadata": {},
   "outputs": [
    {
     "data": {
      "text/plain": [
       "(686, 21)"
      ]
     },
     "execution_count": 7,
     "metadata": {},
     "output_type": "execute_result"
    }
   ],
   "source": [
    "# Now there are 18 person under 18 so we delete it\n",
    "df = df.loc[df[\"age\"] > 17]\n",
    "df.shape"
   ]
  },
  {
   "cell_type": "code",
   "execution_count": 8,
   "metadata": {},
   "outputs": [
    {
     "data": {
      "text/plain": [
       "array([0, 1], dtype=int64)"
      ]
     },
     "execution_count": 8,
     "metadata": {},
     "output_type": "execute_result"
    }
   ],
   "source": [
    "# Change Class/ASD 0 and 1\n",
    "df['Class/ASD'] = df['Class/ASD'].apply(lambda x: 0 if x == 'NO' else 1)\n",
    "df['Class/ASD'].unique()"
   ]
  },
  {
   "cell_type": "code",
   "execution_count": 9,
   "metadata": {},
   "outputs": [],
   "source": [
    "# Change col 0 and 1\n",
    "col = ['used_app_before', 'jundice', 'austim']\n",
    "for c in col:\n",
    "    df[c] = df[c].apply(lambda x: 0 if x == 'no' else 1)\n",
    "\n",
    "# change gender column\n",
    "df['gender'] = df['gender'].apply(lambda x: 0 if x == 'f' else 1)"
   ]
  },
  {
   "cell_type": "code",
   "execution_count": 10,
   "metadata": {},
   "outputs": [
    {
     "name": "stdout",
     "output_type": "stream",
     "text": [
      "A1_Score uniqe==> [1 0]\n",
      "\n",
      "A2_Score uniqe==> [1 0]\n",
      "\n",
      "A3_Score uniqe==> [1 0]\n",
      "\n",
      "A4_Score uniqe==> [1 0]\n",
      "\n",
      "A5_Score uniqe==> [0 1]\n",
      "\n",
      "A6_Score uniqe==> [0 1]\n",
      "\n",
      "A7_Score uniqe==> [1 0]\n",
      "\n",
      "A8_Score uniqe==> [1 0]\n",
      "\n",
      "A9_Score uniqe==> [0 1]\n",
      "\n",
      "A10_Score uniqe==> [0 1]\n",
      "\n",
      "age uniqe==> [26 24 27 35 40 36 64 29 33 18 31 30 34 38 42 43 48 37 55 50 53 20 28 21\n",
      " 47 32 44 19 58 45 22 39 25 23 54 60 41 46 56 61 59 52 49 51]\n",
      "\n",
      "gender uniqe==> [0 1]\n",
      "\n",
      "ethnicity uniqe==> ['White-European' 'Latino' 'Others' \"'Middle Eastern '\" 'Black' 'Pasifika'\n",
      " 'Asian' \"'South Asian'\" 'Hispanic' 'Turkish']\n",
      "\n",
      "jundice uniqe==> [0 1]\n",
      "\n",
      "austim uniqe==> [0 1]\n",
      "\n",
      "contry_of_res uniqe==> [\"'United States'\" 'Brazil' 'Spain' 'Egypt' \"'New Zealand'\" 'Burundi'\n",
      " 'Jordan' 'Ireland' \"'United Arab Emirates'\" 'Afghanistan' 'Lebanon'\n",
      " \"'United Kingdom'\" \"'South Africa'\" 'Italy' 'Pakistan' 'Bangladesh'\n",
      " 'Chile' 'France' 'China' 'Australia' 'Canada' \"'Saudi Arabia'\"\n",
      " 'Netherlands' 'Sweden' 'Tonga' 'Oman' 'India' 'Philippines' \"'Sri Lanka'\"\n",
      " \"'Sierra Leone'\" 'Ethiopia' 'Romania' \"'Viet Nam'\" 'Iran' \"'Costa Rica'\"\n",
      " 'Germany' 'Mexico' 'Russia' 'Armenia' 'Iceland' 'Nicaragua' \"'Hong Kong'\"\n",
      " 'Austria' 'Argentina' 'Japan' 'Ukraine' 'Kazakhstan' 'AmericanSamoa'\n",
      " 'Uruguay' 'Serbia' 'Portugal' 'Malaysia' 'Ecuador' 'Niger' 'Belgium'\n",
      " 'Bolivia' 'Aruba' 'Finland' 'Turkey' 'Nepal' 'Indonesia' 'Angola'\n",
      " 'Azerbaijan' 'Iraq' \"'Czech Republic'\" 'Cyprus']\n",
      "\n",
      "used_app_before uniqe==> [0 1]\n",
      "\n",
      "result uniqe==> [ 6  5  8  2  9 10  3  0  1  4  7]\n",
      "\n",
      "age_desc uniqe==> [\"'18 and more'\"]\n",
      "\n",
      "relation uniqe==> ['Self' 'Parent' 'Others' 'Relative' \"'Health care professional'\"]\n",
      "\n",
      "Class/ASD uniqe==> [0 1]\n",
      "\n"
     ]
    }
   ],
   "source": [
    "for column in df.columns:\n",
    "    print(f'{column} uniqe==> {df[column].unique()}\\n')"
   ]
  },
  {
   "cell_type": "code",
   "execution_count": 11,
   "metadata": {},
   "outputs": [
    {
     "name": "stdout",
     "output_type": "stream",
     "text": [
      "<class 'pandas.core.frame.DataFrame'>\n",
      "Int64Index: 686 entries, 0 to 703\n",
      "Data columns (total 20 columns):\n",
      " #   Column           Non-Null Count  Dtype \n",
      "---  ------           --------------  ----- \n",
      " 0   A1_Score         686 non-null    int64 \n",
      " 1   A2_Score         686 non-null    int64 \n",
      " 2   A3_Score         686 non-null    int64 \n",
      " 3   A4_Score         686 non-null    int64 \n",
      " 4   A5_Score         686 non-null    int64 \n",
      " 5   A6_Score         686 non-null    int64 \n",
      " 6   A7_Score         686 non-null    int64 \n",
      " 7   A8_Score         686 non-null    int64 \n",
      " 8   A9_Score         686 non-null    int64 \n",
      " 9   A10_Score        686 non-null    int64 \n",
      " 10  age              686 non-null    int32 \n",
      " 11  gender           686 non-null    int64 \n",
      " 12  ethnicity        686 non-null    object\n",
      " 13  jundice          686 non-null    int64 \n",
      " 14  austim           686 non-null    int64 \n",
      " 15  contry_of_res    686 non-null    object\n",
      " 16  used_app_before  686 non-null    int64 \n",
      " 17  result           686 non-null    int64 \n",
      " 18  relation         686 non-null    object\n",
      " 19  Class/ASD        686 non-null    int64 \n",
      "dtypes: int32(1), int64(16), object(3)\n",
      "memory usage: 109.9+ KB\n"
     ]
    }
   ],
   "source": [
    "df = df.drop('age_desc', axis=1)\n",
    "df.info()"
   ]
  },
  {
   "cell_type": "code",
   "execution_count": 12,
   "metadata": {},
   "outputs": [
    {
     "data": {
      "text/plain": [
       "['ethnicity', 'contry_of_res', 'relation']"
      ]
     },
     "execution_count": 12,
     "metadata": {},
     "output_type": "execute_result"
    }
   ],
   "source": [
    "# Encoder clolumns\n",
    "cols = [cname for cname in df.columns if df[cname].dtype=='object']\n",
    "cols"
   ]
  },
  {
   "cell_type": "code",
   "execution_count": 13,
   "metadata": {},
   "outputs": [],
   "source": [
    "# encoder\n",
    "from sklearn.preprocessing import OrdinalEncoder\n",
    "oe = OrdinalEncoder()\n",
    "df[cols] = oe.fit_transform(df[cols])"
   ]
  },
  {
   "cell_type": "code",
   "execution_count": 14,
   "metadata": {},
   "outputs": [
    {
     "name": "stdout",
     "output_type": "stream",
     "text": [
      "<class 'pandas.core.frame.DataFrame'>\n",
      "Int64Index: 686 entries, 0 to 703\n",
      "Data columns (total 20 columns):\n",
      " #   Column           Non-Null Count  Dtype  \n",
      "---  ------           --------------  -----  \n",
      " 0   A1_Score         686 non-null    int64  \n",
      " 1   A2_Score         686 non-null    int64  \n",
      " 2   A3_Score         686 non-null    int64  \n",
      " 3   A4_Score         686 non-null    int64  \n",
      " 4   A5_Score         686 non-null    int64  \n",
      " 5   A6_Score         686 non-null    int64  \n",
      " 6   A7_Score         686 non-null    int64  \n",
      " 7   A8_Score         686 non-null    int64  \n",
      " 8   A9_Score         686 non-null    int64  \n",
      " 9   A10_Score        686 non-null    int64  \n",
      " 10  age              686 non-null    int32  \n",
      " 11  gender           686 non-null    int64  \n",
      " 12  ethnicity        686 non-null    float64\n",
      " 13  jundice          686 non-null    int64  \n",
      " 14  austim           686 non-null    int64  \n",
      " 15  contry_of_res    686 non-null    float64\n",
      " 16  used_app_before  686 non-null    int64  \n",
      " 17  result           686 non-null    int64  \n",
      " 18  relation         686 non-null    float64\n",
      " 19  Class/ASD        686 non-null    int64  \n",
      "dtypes: float64(3), int32(1), int64(16)\n",
      "memory usage: 109.9 KB\n"
     ]
    }
   ],
   "source": [
    "df.info()"
   ]
  },
  {
   "cell_type": "code",
   "execution_count": 15,
   "metadata": {},
   "outputs": [
    {
     "data": {
      "image/png": "[encoded data removed]",
      "text/plain": [
       "<Figure size 432x288 with 2 Axes>"
      ]
     },
     "metadata": {},
     "output_type": "display_data"
    }
   ],
   "source": [
    "import numpy as np\n",
    "import seaborn as sns\n",
    "import matplotlib.pyplot as plt\n",
    "%matplotlib inline\n",
    "\n",
    "correlation = df.corr(method='pearson')\n",
    "columns = correlation.nlargest(10, 'Class/ASD').index\n",
    "columns\n",
    "correlation_map = np.corrcoef(df[columns].values.T)\n",
    "sns.set(font_scale=1.0)\n",
    "heatmap = sns.heatmap(correlation_map, annot=True, square=True, fmt='.2f', \n",
    "                      yticklabels=columns.values, xticklabels=columns.values)\n",
    "\n",
    "plt.show()"
   ]
  },
  {
   "cell_type": "code",
   "execution_count": 16,
   "metadata": {},
   "outputs": [],
   "source": [
    "X = df.iloc[:, :-1].values\n",
    "y = df.iloc[:, -1].values"
   ]
  },
  {
   "cell_type": "code",
   "execution_count": 17,
   "metadata": {},
   "outputs": [],
   "source": [
    "from sklearn.model_selection import train_test_split\n",
    "X_train, X_test, y_train, y_test = train_test_split(X, y, test_size=0.2, random_state=2021)"
   ]
  },
  {
   "cell_type": "code",
   "execution_count": 18,
   "metadata": {},
   "outputs": [],
   "source": [
    "import sklearn.metrics as metrics\n",
    "def regression_results(y_true, y_pred):\n",
    "    \n",
    "    # Regression metrics\n",
    "    explained_variance=metrics.explained_variance_score(y_true, y_pred)\n",
    "    mean_absolute_error=metrics.mean_absolute_error(y_true, y_pred) \n",
    "    mse=metrics.mean_squared_error(y_true, y_pred) \n",
    "    mean_squared_log_error=metrics.mean_squared_log_error(y_true, y_pred)\n",
    "    r2=metrics.r2_score(y_true, y_pred)\n",
    "\n",
    "    print('explained_variance: ', round(explained_variance,4))  \n",
    "    print('mean_squared_log_error: ', round(mean_squared_log_error,4))\n",
    "    print('r2: ', round(r2,4))\n",
    "    print('MAE: ', round(mean_absolute_error,4))\n",
    "    print('MSE: ', round(mse,4))\n",
    "    print('RMSE: ', round(np.sqrt(mse),4))"
   ]
  },
  {
   "cell_type": "code",
   "execution_count": 19,
   "metadata": {},
   "outputs": [
    {
     "name": "stdout",
     "output_type": "stream",
     "text": [
      "Accuracy: 100.000%\n",
      "explained_variance:  1.0\n",
      "mean_squared_log_error:  0.0\n",
      "r2:  1.0\n",
      "MAE:  0.0\n",
      "MSE:  0.0\n",
      "RMSE:  0.0\n"
     ]
    }
   ],
   "source": [
    "from sklearn.linear_model import LogisticRegression\n",
    "\n",
    "model = LogisticRegression(random_state=2021, max_iter=500)\n",
    "model.fit(X_train, y_train)\n",
    "result = model.score(X_test, y_test)\n",
    "print(\"Accuracy: %.3f%%\" % (result*100.0))\n",
    "y_pred = model.predict(X_test)\n",
    "regression_results(y_pred, y_test)"
   ]
  },
  {
   "cell_type": "code",
   "execution_count": 20,
   "metadata": {},
   "outputs": [
    {
     "data": {
      "text/plain": [
       "['fit_time', 'score_time', 'test_score']"
      ]
     },
     "execution_count": 20,
     "metadata": {},
     "output_type": "execute_result"
    }
   ],
   "source": [
    "from sklearn.model_selection import cross_validate\n",
    "\n",
    "cv_results = cross_validate(model, X, y, cv=3)\n",
    "sorted(cv_results.keys())"
   ]
  },
  {
   "cell_type": "code",
   "execution_count": 21,
   "metadata": {},
   "outputs": [
    {
     "data": {
      "text/plain": [
       "array([1., 1., 1.])"
      ]
     },
     "execution_count": 21,
     "metadata": {},
     "output_type": "execute_result"
    }
   ],
   "source": [
    "cv_results['test_score']"
   ]
  },
  {
   "cell_type": "code",
   "execution_count": 22,
   "metadata": {},
   "outputs": [
    {
     "name": "stdout",
     "output_type": "stream",
     "text": [
      "MSE: 0.000\n",
      "Bias: 0.000\n",
      "Variance: 0.000\n"
     ]
    }
   ],
   "source": [
    "# See Bias and variance\n",
    "from mlxtend.evaluate import bias_variance_decomp\n",
    "\n",
    "mse, bias, var = bias_variance_decomp(model, X_train, y_train, X_test, y_test, loss='mse', num_rounds=200, random_seed=1)\n",
    "# summarize results\n",
    "print('MSE: %.3f' % mse)\n",
    "print('Bias: %.3f' % bias)\n",
    "print('Variance: %.3f' % var)"
   ]
  },
  {
   "cell_type": "code",
   "execution_count": null,
   "metadata": {},
   "outputs": [],
   "source": []
  }
 ],
 "metadata": {
  "interpreter": {
   "hash": "06d551a9c38e3c9226fb791b081d443165cdefd6b8907d1070492d8de0992181"
  },
  "kernelspec": {
   "display_name": "Python 3.6.5 64-bit",
   "name": "python3"
  },
  "language_info": {
   "codemirror_mode": {
    "name": "ipython",
    "version": 3
   },
   "file_extension": ".py",
   "mimetype": "text/x-python",
   "name": "python",
   "nbconvert_exporter": "python",
   "pygments_lexer": "ipython3",
   "version": "3.6.5"
  },
  "orig_nbformat": 4
 },
 "nbformat": 4,
 "nbformat_minor": 2
}
