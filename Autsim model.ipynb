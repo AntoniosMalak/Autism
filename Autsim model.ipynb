{
 "cells": [
  {
   "cell_type": "code",
   "execution_count": 1,
   "metadata": {},
   "outputs": [
    {
     "data": {
      "text/html": [
       "<div>\n",
       "<style scoped>\n",
       "    .dataframe tbody tr th:only-of-type {\n",
       "        vertical-align: middle;\n",
       "    }\n",
       "\n",
       "    .dataframe tbody tr th {\n",
       "        vertical-align: top;\n",
       "    }\n",
       "\n",
       "    .dataframe thead th {\n",
       "        text-align: right;\n",
       "    }\n",
       "</style>\n",
       "<table border=\"1\" class=\"dataframe\">\n",
       "  <thead>\n",
       "    <tr style=\"text-align: right;\">\n",
       "      <th></th>\n",
       "      <th>A1_Score</th>\n",
       "      <th>A2_Score</th>\n",
       "      <th>A3_Score</th>\n",
       "      <th>A4_Score</th>\n",
       "      <th>A5_Score</th>\n",
       "      <th>A6_Score</th>\n",
       "      <th>A7_Score</th>\n",
       "      <th>A8_Score</th>\n",
       "      <th>A9_Score</th>\n",
       "      <th>A10_Score</th>\n",
       "      <th>...</th>\n",
       "      <th>gender</th>\n",
       "      <th>ethnicity</th>\n",
       "      <th>jundice</th>\n",
       "      <th>austim</th>\n",
       "      <th>contry_of_res</th>\n",
       "      <th>used_app_before</th>\n",
       "      <th>result</th>\n",
       "      <th>age_desc</th>\n",
       "      <th>relation</th>\n",
       "      <th>Class/ASD</th>\n",
       "    </tr>\n",
       "  </thead>\n",
       "  <tbody>\n",
       "    <tr>\n",
       "      <th>0</th>\n",
       "      <td>1</td>\n",
       "      <td>1</td>\n",
       "      <td>1</td>\n",
       "      <td>1</td>\n",
       "      <td>0</td>\n",
       "      <td>0</td>\n",
       "      <td>1</td>\n",
       "      <td>1</td>\n",
       "      <td>0</td>\n",
       "      <td>0</td>\n",
       "      <td>...</td>\n",
       "      <td>f</td>\n",
       "      <td>White-European</td>\n",
       "      <td>no</td>\n",
       "      <td>no</td>\n",
       "      <td>'United States'</td>\n",
       "      <td>no</td>\n",
       "      <td>6</td>\n",
       "      <td>'18 and more'</td>\n",
       "      <td>Self</td>\n",
       "      <td>NO</td>\n",
       "    </tr>\n",
       "    <tr>\n",
       "      <th>1</th>\n",
       "      <td>1</td>\n",
       "      <td>1</td>\n",
       "      <td>0</td>\n",
       "      <td>1</td>\n",
       "      <td>0</td>\n",
       "      <td>0</td>\n",
       "      <td>0</td>\n",
       "      <td>1</td>\n",
       "      <td>0</td>\n",
       "      <td>1</td>\n",
       "      <td>...</td>\n",
       "      <td>m</td>\n",
       "      <td>Latino</td>\n",
       "      <td>no</td>\n",
       "      <td>yes</td>\n",
       "      <td>Brazil</td>\n",
       "      <td>no</td>\n",
       "      <td>5</td>\n",
       "      <td>'18 and more'</td>\n",
       "      <td>Self</td>\n",
       "      <td>NO</td>\n",
       "    </tr>\n",
       "    <tr>\n",
       "      <th>2</th>\n",
       "      <td>1</td>\n",
       "      <td>1</td>\n",
       "      <td>0</td>\n",
       "      <td>1</td>\n",
       "      <td>1</td>\n",
       "      <td>0</td>\n",
       "      <td>1</td>\n",
       "      <td>1</td>\n",
       "      <td>1</td>\n",
       "      <td>1</td>\n",
       "      <td>...</td>\n",
       "      <td>m</td>\n",
       "      <td>Latino</td>\n",
       "      <td>yes</td>\n",
       "      <td>yes</td>\n",
       "      <td>Spain</td>\n",
       "      <td>no</td>\n",
       "      <td>8</td>\n",
       "      <td>'18 and more'</td>\n",
       "      <td>Parent</td>\n",
       "      <td>YES</td>\n",
       "    </tr>\n",
       "    <tr>\n",
       "      <th>3</th>\n",
       "      <td>1</td>\n",
       "      <td>1</td>\n",
       "      <td>0</td>\n",
       "      <td>1</td>\n",
       "      <td>0</td>\n",
       "      <td>0</td>\n",
       "      <td>1</td>\n",
       "      <td>1</td>\n",
       "      <td>0</td>\n",
       "      <td>1</td>\n",
       "      <td>...</td>\n",
       "      <td>f</td>\n",
       "      <td>White-European</td>\n",
       "      <td>no</td>\n",
       "      <td>yes</td>\n",
       "      <td>'United States'</td>\n",
       "      <td>no</td>\n",
       "      <td>6</td>\n",
       "      <td>'18 and more'</td>\n",
       "      <td>Self</td>\n",
       "      <td>NO</td>\n",
       "    </tr>\n",
       "    <tr>\n",
       "      <th>4</th>\n",
       "      <td>1</td>\n",
       "      <td>0</td>\n",
       "      <td>0</td>\n",
       "      <td>0</td>\n",
       "      <td>0</td>\n",
       "      <td>0</td>\n",
       "      <td>0</td>\n",
       "      <td>1</td>\n",
       "      <td>0</td>\n",
       "      <td>0</td>\n",
       "      <td>...</td>\n",
       "      <td>f</td>\n",
       "      <td>?</td>\n",
       "      <td>no</td>\n",
       "      <td>no</td>\n",
       "      <td>Egypt</td>\n",
       "      <td>no</td>\n",
       "      <td>2</td>\n",
       "      <td>'18 and more'</td>\n",
       "      <td>?</td>\n",
       "      <td>NO</td>\n",
       "    </tr>\n",
       "  </tbody>\n",
       "</table>\n",
       "<p>5 rows × 21 columns</p>\n",
       "</div>"
      ],
      "text/plain": [
       "   A1_Score  A2_Score  A3_Score  A4_Score  A5_Score  A6_Score  A7_Score  \\\n",
       "0         1         1         1         1         0         0         1   \n",
       "1         1         1         0         1         0         0         0   \n",
       "2         1         1         0         1         1         0         1   \n",
       "3         1         1         0         1         0         0         1   \n",
       "4         1         0         0         0         0         0         0   \n",
       "\n",
       "   A8_Score  A9_Score  A10_Score  ... gender       ethnicity jundice austim  \\\n",
       "0         1         0          0  ...      f  White-European      no     no   \n",
       "1         1         0          1  ...      m          Latino      no    yes   \n",
       "2         1         1          1  ...      m          Latino     yes    yes   \n",
       "3         1         0          1  ...      f  White-European      no    yes   \n",
       "4         1         0          0  ...      f               ?      no     no   \n",
       "\n",
       "     contry_of_res used_app_before result       age_desc relation Class/ASD  \n",
       "0  'United States'              no      6  '18 and more'     Self        NO  \n",
       "1           Brazil              no      5  '18 and more'     Self        NO  \n",
       "2            Spain              no      8  '18 and more'   Parent       YES  \n",
       "3  'United States'              no      6  '18 and more'     Self        NO  \n",
       "4            Egypt              no      2  '18 and more'        ?        NO  \n",
       "\n",
       "[5 rows x 21 columns]"
      ]
     },
     "execution_count": 1,
     "metadata": {},
     "output_type": "execute_result"
    }
   ],
   "source": [
    "# Load dataset\n",
    "import pandas as pd\n",
    "columns = ['A1_Score', 'A2_Score', 'A3_Score', 'A4_Score', 'A5_Score', \n",
    "            'A6_Score', 'A7_Score', 'A8_Score', 'A9_Score', 'A10_Score',\n",
    "            'age', 'gender', 'ethnicity', 'jundice', 'austim', 'contry_of_res', \n",
    "            'used_app_before', 'result', 'age_desc', 'relation', 'Class/ASD']\n",
    "\n",
    "df = pd.read_csv('Autism-Adult-Data.csv', names=columns)\n",
    "df.head()"
   ]
  },
  {
   "cell_type": "code",
   "execution_count": 2,
   "metadata": {},
   "outputs": [
    {
     "data": {
      "text/plain": [
       "(704, 21)"
      ]
     },
     "execution_count": 2,
     "metadata": {},
     "output_type": "execute_result"
    }
   ],
   "source": [
    "df.shape"
   ]
  },
  {
   "cell_type": "code",
   "execution_count": 3,
   "metadata": {},
   "outputs": [
    {
     "name": "stdout",
     "output_type": "stream",
     "text": [
      "A1_Score uniqe==> [1 0]\n",
      "\n",
      "A2_Score uniqe==> [1 0]\n",
      "\n",
      "A3_Score uniqe==> [1 0]\n",
      "\n",
      "A4_Score uniqe==> [1 0]\n",
      "\n",
      "A5_Score uniqe==> [0 1]\n",
      "\n",
      "A6_Score uniqe==> [0 1]\n",
      "\n",
      "A7_Score uniqe==> [1 0]\n",
      "\n",
      "A8_Score uniqe==> [1 0]\n",
      "\n",
      "A9_Score uniqe==> [0 1]\n",
      "\n",
      "A10_Score uniqe==> [0 1]\n",
      "\n",
      "age uniqe==> ['26' '24' '27' '35' '40' '36' '17' '64' '29' '33' '18' '31' '30' '34'\n",
      " '38' '42' '43' '48' '37' '55' '50' '53' '20' '28' '21' '383' '47' '32'\n",
      " '44' '?' '19' '58' '45' '22' '39' '25' '23' '54' '60' '41' '46' '56' '61'\n",
      " '59' '52' '49' '51']\n",
      "\n",
      "gender uniqe==> ['f' 'm']\n",
      "\n",
      "ethnicity uniqe==> ['White-European' 'Latino' '?' 'Others' 'Black' 'Asian'\n",
      " \"'Middle Eastern '\" 'Pasifika' \"'South Asian'\" 'Hispanic' 'Turkish'\n",
      " 'others']\n",
      "\n",
      "jundice uniqe==> ['no' 'yes']\n",
      "\n",
      "austim uniqe==> ['no' 'yes']\n",
      "\n",
      "contry_of_res uniqe==> [\"'United States'\" 'Brazil' 'Spain' 'Egypt' \"'New Zealand'\" 'Bahamas'\n",
      " 'Burundi' 'Austria' 'Argentina' 'Jordan' 'Ireland'\n",
      " \"'United Arab Emirates'\" 'Afghanistan' 'Lebanon' \"'United Kingdom'\"\n",
      " \"'South Africa'\" 'Italy' 'Pakistan' 'Bangladesh' 'Chile' 'France' 'China'\n",
      " 'Australia' 'Canada' \"'Saudi Arabia'\" 'Netherlands' 'Romania' 'Sweden'\n",
      " 'Tonga' 'Oman' 'India' 'Philippines' \"'Sri Lanka'\" \"'Sierra Leone'\"\n",
      " 'Ethiopia' \"'Viet Nam'\" 'Iran' \"'Costa Rica'\" 'Germany' 'Mexico' 'Russia'\n",
      " 'Armenia' 'Iceland' 'Nicaragua' \"'Hong Kong'\" 'Japan' 'Ukraine'\n",
      " 'Kazakhstan' 'AmericanSamoa' 'Uruguay' 'Serbia' 'Portugal' 'Malaysia'\n",
      " 'Ecuador' 'Niger' 'Belgium' 'Bolivia' 'Aruba' 'Finland' 'Turkey' 'Nepal'\n",
      " 'Indonesia' 'Angola' 'Azerbaijan' 'Iraq' \"'Czech Republic'\" 'Cyprus']\n",
      "\n",
      "used_app_before uniqe==> ['no' 'yes']\n",
      "\n",
      "result uniqe==> [ 6  5  8  2  9 10  4  3  0  1  7]\n",
      "\n",
      "age_desc uniqe==> [\"'18 and more'\"]\n",
      "\n",
      "relation uniqe==> ['Self' 'Parent' '?' \"'Health care professional'\" 'Relative' 'Others']\n",
      "\n",
      "Class/ASD uniqe==> ['NO' 'YES']\n",
      "\n"
     ]
    }
   ],
   "source": [
    "for column in df.columns:\n",
    "    print(f'{column} uniqe==> {df[column].unique()}\\n')"
   ]
  },
  {
   "cell_type": "code",
   "execution_count": 4,
   "metadata": {},
   "outputs": [
    {
     "data": {
      "text/plain": [
       "array(['Self', 'Parent', 'Others', \"'Health care professional'\",\n",
       "       'Relative'], dtype=object)"
      ]
     },
     "execution_count": 4,
     "metadata": {},
     "output_type": "execute_result"
    }
   ],
   "source": [
    "# change ? with Others in relation column\n",
    "df['relation'] = df['relation'].replace(\"?\", \"Others\")\n",
    "df['relation'].unique()"
   ]
  },
  {
   "cell_type": "code",
   "execution_count": 5,
   "metadata": {},
   "outputs": [
    {
     "data": {
      "text/plain": [
       "array(['White-European', 'Latino', 'Others', 'Black', 'Asian',\n",
       "       \"'Middle Eastern '\", 'Pasifika', \"'South Asian'\", 'Hispanic',\n",
       "       'Turkish'], dtype=object)"
      ]
     },
     "execution_count": 5,
     "metadata": {},
     "output_type": "execute_result"
    }
   ],
   "source": [
    "# change ? with Others and others with Others in ethnicity column\n",
    "df['ethnicity'] = df['ethnicity'].replace(\"?\", \"Others\")\n",
    "df['ethnicity'] = df['ethnicity'].replace(\"others\", \"Others\")\n",
    "df['ethnicity'].unique()"
   ]
  },
  {
   "cell_type": "code",
   "execution_count": 6,
   "metadata": {},
   "outputs": [
    {
     "data": {
      "text/plain": [
       "array([26, 24, 27, 35, 40, 36, 17, 64, 29, 33, 18, 31, 30, 34, 38, 42, 43,\n",
       "       48, 37, 55, 50, 53, 20, 28, 21, 47, 32, 44, 19, 58, 45, 22, 39, 25,\n",
       "       23, 54, 60, 41, 46, 56, 61, 59, 52, 49, 51])"
      ]
     },
     "execution_count": 6,
     "metadata": {},
     "output_type": "execute_result"
    }
   ],
   "source": [
    "# change ? with 0, dtype of age column and change 0, 383 with mean of column with is 29\n",
    "df['age'] = df['age'].replace(\"?\", '0')\n",
    "df['age'] = df['age'].astype(int)\n",
    "df['age'] = df['age'].replace(0, int(df['age'].mean()))\n",
    "df['age'] = df['age'].replace(383, int(df['age'].mean()))\n",
    "df['age'].unique()"
   ]
  },
  {
   "cell_type": "code",
   "execution_count": 7,
   "metadata": {},
   "outputs": [
    {
     "data": {
      "text/plain": [
       "(686, 21)"
      ]
     },
     "execution_count": 7,
     "metadata": {},
     "output_type": "execute_result"
    }
   ],
   "source": [
    "# Now there are 18 person under 18 so we delete it\n",
    "df = df.loc[df[\"age\"] > 17]\n",
    "df.shape"
   ]
  },
  {
   "cell_type": "code",
   "execution_count": 8,
   "metadata": {},
   "outputs": [
    {
     "data": {
      "text/plain": [
       "array([0, 1], dtype=int64)"
      ]
     },
     "execution_count": 8,
     "metadata": {},
     "output_type": "execute_result"
    }
   ],
   "source": [
    "# Change Class/ASD 0 and 1\n",
    "df['Class/ASD'] = df['Class/ASD'].apply(lambda x: 0 if x == 'NO' else 1)\n",
    "df['Class/ASD'].unique()"
   ]
  },
  {
   "cell_type": "code",
   "execution_count": 9,
   "metadata": {},
   "outputs": [],
   "source": [
    "# Change col 0 and 1\n",
    "col = ['used_app_before', 'jundice', 'austim']\n",
    "for c in col:\n",
    "    df[c] = df[c].apply(lambda x: 0 if x == 'no' else 1)\n",
    "\n",
    "# change gender column\n",
    "df['gender'] = df['gender'].apply(lambda x: 0 if x == 'f' else 1)"
   ]
  },
  {
   "cell_type": "code",
   "execution_count": 10,
   "metadata": {},
   "outputs": [
    {
     "name": "stdout",
     "output_type": "stream",
     "text": [
      "A1_Score uniqe==> [1 0]\n",
      "\n",
      "A2_Score uniqe==> [1 0]\n",
      "\n",
      "A3_Score uniqe==> [1 0]\n",
      "\n",
      "A4_Score uniqe==> [1 0]\n",
      "\n",
      "A5_Score uniqe==> [0 1]\n",
      "\n",
      "A6_Score uniqe==> [0 1]\n",
      "\n",
      "A7_Score uniqe==> [1 0]\n",
      "\n",
      "A8_Score uniqe==> [1 0]\n",
      "\n",
      "A9_Score uniqe==> [0 1]\n",
      "\n",
      "A10_Score uniqe==> [0 1]\n",
      "\n",
      "age uniqe==> [26 24 27 35 40 36 64 29 33 18 31 30 34 38 42 43 48 37 55 50 53 20 28 21\n",
      " 47 32 44 19 58 45 22 39 25 23 54 60 41 46 56 61 59 52 49 51]\n",
      "\n",
      "gender uniqe==> [0 1]\n",
      "\n",
      "ethnicity uniqe==> ['White-European' 'Latino' 'Others' \"'Middle Eastern '\" 'Black' 'Pasifika'\n",
      " 'Asian' \"'South Asian'\" 'Hispanic' 'Turkish']\n",
      "\n",
      "jundice uniqe==> [0 1]\n",
      "\n",
      "austim uniqe==> [0 1]\n",
      "\n",
      "contry_of_res uniqe==> [\"'United States'\" 'Brazil' 'Spain' 'Egypt' \"'New Zealand'\" 'Burundi'\n",
      " 'Jordan' 'Ireland' \"'United Arab Emirates'\" 'Afghanistan' 'Lebanon'\n",
      " \"'United Kingdom'\" \"'South Africa'\" 'Italy' 'Pakistan' 'Bangladesh'\n",
      " 'Chile' 'France' 'China' 'Australia' 'Canada' \"'Saudi Arabia'\"\n",
      " 'Netherlands' 'Sweden' 'Tonga' 'Oman' 'India' 'Philippines' \"'Sri Lanka'\"\n",
      " \"'Sierra Leone'\" 'Ethiopia' 'Romania' \"'Viet Nam'\" 'Iran' \"'Costa Rica'\"\n",
      " 'Germany' 'Mexico' 'Russia' 'Armenia' 'Iceland' 'Nicaragua' \"'Hong Kong'\"\n",
      " 'Austria' 'Argentina' 'Japan' 'Ukraine' 'Kazakhstan' 'AmericanSamoa'\n",
      " 'Uruguay' 'Serbia' 'Portugal' 'Malaysia' 'Ecuador' 'Niger' 'Belgium'\n",
      " 'Bolivia' 'Aruba' 'Finland' 'Turkey' 'Nepal' 'Indonesia' 'Angola'\n",
      " 'Azerbaijan' 'Iraq' \"'Czech Republic'\" 'Cyprus']\n",
      "\n",
      "used_app_before uniqe==> [0 1]\n",
      "\n",
      "result uniqe==> [ 6  5  8  2  9 10  3  0  1  4  7]\n",
      "\n",
      "age_desc uniqe==> [\"'18 and more'\"]\n",
      "\n",
      "relation uniqe==> ['Self' 'Parent' 'Others' 'Relative' \"'Health care professional'\"]\n",
      "\n",
      "Class/ASD uniqe==> [0 1]\n",
      "\n"
     ]
    }
   ],
   "source": [
    "for column in df.columns:\n",
    "    print(f'{column} uniqe==> {df[column].unique()}\\n')"
   ]
  },
  {
   "cell_type": "code",
   "execution_count": 11,
   "metadata": {},
   "outputs": [
    {
     "name": "stdout",
     "output_type": "stream",
     "text": [
      "<class 'pandas.core.frame.DataFrame'>\n",
      "Int64Index: 686 entries, 0 to 703\n",
      "Data columns (total 20 columns):\n",
      " #   Column           Non-Null Count  Dtype \n",
      "---  ------           --------------  ----- \n",
      " 0   A1_Score         686 non-null    int64 \n",
      " 1   A2_Score         686 non-null    int64 \n",
      " 2   A3_Score         686 non-null    int64 \n",
      " 3   A4_Score         686 non-null    int64 \n",
      " 4   A5_Score         686 non-null    int64 \n",
      " 5   A6_Score         686 non-null    int64 \n",
      " 6   A7_Score         686 non-null    int64 \n",
      " 7   A8_Score         686 non-null    int64 \n",
      " 8   A9_Score         686 non-null    int64 \n",
      " 9   A10_Score        686 non-null    int64 \n",
      " 10  age              686 non-null    int32 \n",
      " 11  gender           686 non-null    int64 \n",
      " 12  ethnicity        686 non-null    object\n",
      " 13  jundice          686 non-null    int64 \n",
      " 14  austim           686 non-null    int64 \n",
      " 15  contry_of_res    686 non-null    object\n",
      " 16  used_app_before  686 non-null    int64 \n",
      " 17  result           686 non-null    int64 \n",
      " 18  relation         686 non-null    object\n",
      " 19  Class/ASD        686 non-null    int64 \n",
      "dtypes: int32(1), int64(16), object(3)\n",
      "memory usage: 109.9+ KB\n"
     ]
    }
   ],
   "source": [
    "df = df.drop('age_desc', axis=1)\n",
    "df.info()"
   ]
  },
  {
   "cell_type": "code",
   "execution_count": 12,
   "metadata": {},
   "outputs": [
    {
     "data": {
      "text/plain": [
       "['ethnicity', 'contry_of_res', 'relation']"
      ]
     },
     "execution_count": 12,
     "metadata": {},
     "output_type": "execute_result"
    }
   ],
   "source": [
    "# categorical clolumns\n",
    "cols = [cname for cname in df.columns if df[cname].dtype=='object']\n",
    "cols"
   ]
  },
  {
   "cell_type": "code",
   "execution_count": 13,
   "metadata": {},
   "outputs": [],
   "source": [
    "# encoder\n",
    "from sklearn.preprocessing import OrdinalEncoder\n",
    "encoder = OrdinalEncoder()\n",
    "df[cols] = encoder.fit_transform(df[cols])"
   ]
  },
  {
   "cell_type": "code",
   "execution_count": 14,
   "metadata": {},
   "outputs": [
    {
     "data": {
      "text/html": [
       "<div>\n",
       "<style scoped>\n",
       "    .dataframe tbody tr th:only-of-type {\n",
       "        vertical-align: middle;\n",
       "    }\n",
       "\n",
       "    .dataframe tbody tr th {\n",
       "        vertical-align: top;\n",
       "    }\n",
       "\n",
       "    .dataframe thead th {\n",
       "        text-align: right;\n",
       "    }\n",
       "</style>\n",
       "<table border=\"1\" class=\"dataframe\">\n",
       "  <thead>\n",
       "    <tr style=\"text-align: right;\">\n",
       "      <th></th>\n",
       "      <th>ethnicity</th>\n",
       "      <th>contry_of_res</th>\n",
       "      <th>relation</th>\n",
       "    </tr>\n",
       "  </thead>\n",
       "  <tbody>\n",
       "    <tr>\n",
       "      <th>0</th>\n",
       "      <td>9.0</td>\n",
       "      <td>10.0</td>\n",
       "      <td>4.0</td>\n",
       "    </tr>\n",
       "    <tr>\n",
       "      <th>1</th>\n",
       "      <td>5.0</td>\n",
       "      <td>24.0</td>\n",
       "      <td>4.0</td>\n",
       "    </tr>\n",
       "    <tr>\n",
       "      <th>2</th>\n",
       "      <td>5.0</td>\n",
       "      <td>60.0</td>\n",
       "      <td>2.0</td>\n",
       "    </tr>\n",
       "    <tr>\n",
       "      <th>3</th>\n",
       "      <td>9.0</td>\n",
       "      <td>10.0</td>\n",
       "      <td>4.0</td>\n",
       "    </tr>\n",
       "    <tr>\n",
       "      <th>4</th>\n",
       "      <td>6.0</td>\n",
       "      <td>31.0</td>\n",
       "      <td>1.0</td>\n",
       "    </tr>\n",
       "    <tr>\n",
       "      <th>...</th>\n",
       "      <td>...</td>\n",
       "      <td>...</td>\n",
       "      <td>...</td>\n",
       "    </tr>\n",
       "    <tr>\n",
       "      <th>699</th>\n",
       "      <td>9.0</td>\n",
       "      <td>58.0</td>\n",
       "      <td>4.0</td>\n",
       "    </tr>\n",
       "    <tr>\n",
       "      <th>700</th>\n",
       "      <td>4.0</td>\n",
       "      <td>48.0</td>\n",
       "      <td>2.0</td>\n",
       "    </tr>\n",
       "    <tr>\n",
       "      <th>701</th>\n",
       "      <td>6.0</td>\n",
       "      <td>58.0</td>\n",
       "      <td>1.0</td>\n",
       "    </tr>\n",
       "    <tr>\n",
       "      <th>702</th>\n",
       "      <td>1.0</td>\n",
       "      <td>54.0</td>\n",
       "      <td>4.0</td>\n",
       "    </tr>\n",
       "    <tr>\n",
       "      <th>703</th>\n",
       "      <td>9.0</td>\n",
       "      <td>29.0</td>\n",
       "      <td>4.0</td>\n",
       "    </tr>\n",
       "  </tbody>\n",
       "</table>\n",
       "<p>686 rows × 3 columns</p>\n",
       "</div>"
      ],
      "text/plain": [
       "     ethnicity  contry_of_res  relation\n",
       "0          9.0           10.0       4.0\n",
       "1          5.0           24.0       4.0\n",
       "2          5.0           60.0       2.0\n",
       "3          9.0           10.0       4.0\n",
       "4          6.0           31.0       1.0\n",
       "..         ...            ...       ...\n",
       "699        9.0           58.0       4.0\n",
       "700        4.0           48.0       2.0\n",
       "701        6.0           58.0       1.0\n",
       "702        1.0           54.0       4.0\n",
       "703        9.0           29.0       4.0\n",
       "\n",
       "[686 rows x 3 columns]"
      ]
     },
     "execution_count": 14,
     "metadata": {},
     "output_type": "execute_result"
    }
   ],
   "source": [
    "df[cols]"
   ]
  },
  {
   "cell_type": "code",
   "execution_count": 15,
   "metadata": {},
   "outputs": [
    {
     "name": "stdout",
     "output_type": "stream",
     "text": [
      "[pca] >Processing dataframe..\n",
      "[pca] >Normalizing input data per feature (zero mean and unit variance)..\n",
      "[pca] >The PCA reduction is performed to capture [95.0%] explained variance using the [19] columns of the input data.\n",
      "[pca] >Fitting using PCA..\n",
      "[pca] >Computing loadings and PCs..\n",
      "[pca] >Computing explained variance..\n",
      "[pca] >Number of components is [17] that covers the [95.00%] explained variance.\n",
      "[pca] >The PCA reduction is performed on the [19] columns of the input dataframe.\n",
      "[pca] >Fitting using PCA..\n",
      "[pca] >Computing loadings and PCs..\n",
      "[pca] >Outlier detection using Hotelling T2 test with alpha=[0.05] and n_components=[17]\n",
      "[pca] >Outlier detection using SPE/DmodX with n_std=[2]\n"
     ]
    },
    {
     "data": {
      "image/png": "[encoded data removed]",
      "text/plain": [
       "<Figure size 1080x720 with 1 Axes>"
      ]
     },
     "metadata": {
      "needs_background": "light"
     },
     "output_type": "display_data"
    },
    {
     "name": "stdout",
     "output_type": "stream",
     "text": [
      "[pca] >Plot PC1 vs PC2 with loadings.\n"
     ]
    },
    {
     "data": {
      "text/plain": [
       "<Figure size 432x288 with 0 Axes>"
      ]
     },
     "metadata": {},
     "output_type": "display_data"
    },
    {
     "data": {
      "image/png": "[encoded data removed]",
      "text/plain": [
       "<Figure size 1080x720 with 1 Axes>"
      ]
     },
     "metadata": {
      "needs_background": "light"
     },
     "output_type": "display_data"
    }
   ],
   "source": [
    "from pca import pca\n",
    "\n",
    "X = df.drop('Class/ASD', axis=1)\n",
    "\n",
    "# Initialize to reduce the data up to the nubmer of componentes that explains 95% of the variance.\n",
    "model = pca(normalize=True)\n",
    "\n",
    "# Fit transform\n",
    "out = model.fit_transform(X)\n",
    "\n",
    "# Plot explained variance\n",
    "fig, ax = model.plot()\n",
    "\n",
    "# Make biplot with the number of features\n",
    "fig, ax = model.biplot(y=df['Class/ASD'], n_feat=5)"
   ]
  },
  {
   "cell_type": "code",
   "execution_count": 16,
   "metadata": {},
   "outputs": [
    {
     "data": {
      "text/html": [
       "<div>\n",
       "<style scoped>\n",
       "    .dataframe tbody tr th:only-of-type {\n",
       "        vertical-align: middle;\n",
       "    }\n",
       "\n",
       "    .dataframe tbody tr th {\n",
       "        vertical-align: top;\n",
       "    }\n",
       "\n",
       "    .dataframe thead th {\n",
       "        text-align: right;\n",
       "    }\n",
       "</style>\n",
       "<table border=\"1\" class=\"dataframe\">\n",
       "  <thead>\n",
       "    <tr style=\"text-align: right;\">\n",
       "      <th></th>\n",
       "      <th>PC</th>\n",
       "      <th>feature</th>\n",
       "      <th>loading</th>\n",
       "      <th>type</th>\n",
       "    </tr>\n",
       "  </thead>\n",
       "  <tbody>\n",
       "    <tr>\n",
       "      <th>0</th>\n",
       "      <td>PC1</td>\n",
       "      <td>result</td>\n",
       "      <td>0.482000</td>\n",
       "      <td>best</td>\n",
       "    </tr>\n",
       "    <tr>\n",
       "      <th>1</th>\n",
       "      <td>PC2</td>\n",
       "      <td>age</td>\n",
       "      <td>0.453997</td>\n",
       "      <td>best</td>\n",
       "    </tr>\n",
       "    <tr>\n",
       "      <th>2</th>\n",
       "      <td>PC3</td>\n",
       "      <td>contry_of_res</td>\n",
       "      <td>0.671993</td>\n",
       "      <td>best</td>\n",
       "    </tr>\n",
       "    <tr>\n",
       "      <th>3</th>\n",
       "      <td>PC4</td>\n",
       "      <td>A1_Score</td>\n",
       "      <td>-0.455829</td>\n",
       "      <td>best</td>\n",
       "    </tr>\n",
       "    <tr>\n",
       "      <th>4</th>\n",
       "      <td>PC5</td>\n",
       "      <td>gender</td>\n",
       "      <td>-0.739106</td>\n",
       "      <td>best</td>\n",
       "    </tr>\n",
       "    <tr>\n",
       "      <th>5</th>\n",
       "      <td>PC6</td>\n",
       "      <td>A8_Score</td>\n",
       "      <td>-0.565004</td>\n",
       "      <td>best</td>\n",
       "    </tr>\n",
       "    <tr>\n",
       "      <th>6</th>\n",
       "      <td>PC7</td>\n",
       "      <td>jundice</td>\n",
       "      <td>0.590101</td>\n",
       "      <td>best</td>\n",
       "    </tr>\n",
       "    <tr>\n",
       "      <th>7</th>\n",
       "      <td>PC8</td>\n",
       "      <td>used_app_before</td>\n",
       "      <td>0.417287</td>\n",
       "      <td>best</td>\n",
       "    </tr>\n",
       "    <tr>\n",
       "      <th>8</th>\n",
       "      <td>PC9</td>\n",
       "      <td>austim</td>\n",
       "      <td>0.507660</td>\n",
       "      <td>best</td>\n",
       "    </tr>\n",
       "    <tr>\n",
       "      <th>9</th>\n",
       "      <td>PC10</td>\n",
       "      <td>age</td>\n",
       "      <td>0.413360</td>\n",
       "      <td>best</td>\n",
       "    </tr>\n",
       "    <tr>\n",
       "      <th>10</th>\n",
       "      <td>PC11</td>\n",
       "      <td>A10_Score</td>\n",
       "      <td>0.422461</td>\n",
       "      <td>best</td>\n",
       "    </tr>\n",
       "    <tr>\n",
       "      <th>11</th>\n",
       "      <td>PC12</td>\n",
       "      <td>austim</td>\n",
       "      <td>0.460780</td>\n",
       "      <td>best</td>\n",
       "    </tr>\n",
       "    <tr>\n",
       "      <th>12</th>\n",
       "      <td>PC13</td>\n",
       "      <td>contry_of_res</td>\n",
       "      <td>0.496506</td>\n",
       "      <td>best</td>\n",
       "    </tr>\n",
       "    <tr>\n",
       "      <th>13</th>\n",
       "      <td>PC14</td>\n",
       "      <td>A7_Score</td>\n",
       "      <td>-0.561656</td>\n",
       "      <td>best</td>\n",
       "    </tr>\n",
       "    <tr>\n",
       "      <th>14</th>\n",
       "      <td>PC15</td>\n",
       "      <td>ethnicity</td>\n",
       "      <td>-0.548051</td>\n",
       "      <td>best</td>\n",
       "    </tr>\n",
       "    <tr>\n",
       "      <th>15</th>\n",
       "      <td>PC16</td>\n",
       "      <td>A4_Score</td>\n",
       "      <td>-0.659524</td>\n",
       "      <td>best</td>\n",
       "    </tr>\n",
       "    <tr>\n",
       "      <th>16</th>\n",
       "      <td>PC17</td>\n",
       "      <td>A5_Score</td>\n",
       "      <td>0.592085</td>\n",
       "      <td>best</td>\n",
       "    </tr>\n",
       "  </tbody>\n",
       "</table>\n",
       "</div>"
      ],
      "text/plain": [
       "      PC          feature   loading  type\n",
       "0    PC1           result  0.482000  best\n",
       "1    PC2              age  0.453997  best\n",
       "2    PC3    contry_of_res  0.671993  best\n",
       "3    PC4         A1_Score -0.455829  best\n",
       "4    PC5           gender -0.739106  best\n",
       "5    PC6         A8_Score -0.565004  best\n",
       "6    PC7          jundice  0.590101  best\n",
       "7    PC8  used_app_before  0.417287  best\n",
       "8    PC9           austim  0.507660  best\n",
       "9   PC10              age  0.413360  best\n",
       "10  PC11        A10_Score  0.422461  best\n",
       "11  PC12           austim  0.460780  best\n",
       "12  PC13    contry_of_res  0.496506  best\n",
       "13  PC14         A7_Score -0.561656  best\n",
       "14  PC15        ethnicity -0.548051  best\n",
       "15  PC16         A4_Score -0.659524  best\n",
       "16  PC17         A5_Score  0.592085  best"
      ]
     },
     "execution_count": 16,
     "metadata": {},
     "output_type": "execute_result"
    }
   ],
   "source": [
    "best_features = pd.DataFrame(out['topfeat'])\n",
    "best_features[best_features['type']=='best']"
   ]
  },
  {
   "cell_type": "code",
   "execution_count": 17,
   "metadata": {},
   "outputs": [
    {
     "data": {
      "text/html": [
       "<div>\n",
       "<style scoped>\n",
       "    .dataframe tbody tr th:only-of-type {\n",
       "        vertical-align: middle;\n",
       "    }\n",
       "\n",
       "    .dataframe tbody tr th {\n",
       "        vertical-align: top;\n",
       "    }\n",
       "\n",
       "    .dataframe thead th {\n",
       "        text-align: right;\n",
       "    }\n",
       "</style>\n",
       "<table border=\"1\" class=\"dataframe\">\n",
       "  <thead>\n",
       "    <tr style=\"text-align: right;\">\n",
       "      <th></th>\n",
       "      <th>result</th>\n",
       "      <th>age</th>\n",
       "      <th>contry_of_res</th>\n",
       "      <th>A1_Score</th>\n",
       "      <th>gender</th>\n",
       "      <th>A8_Score</th>\n",
       "      <th>jundice</th>\n",
       "      <th>used_app_before</th>\n",
       "      <th>austim</th>\n",
       "      <th>age</th>\n",
       "      <th>A10_Score</th>\n",
       "      <th>austim</th>\n",
       "      <th>contry_of_res</th>\n",
       "      <th>A7_Score</th>\n",
       "      <th>ethnicity</th>\n",
       "      <th>A4_Score</th>\n",
       "      <th>A5_Score</th>\n",
       "      <th>Class/ASD</th>\n",
       "    </tr>\n",
       "  </thead>\n",
       "  <tbody>\n",
       "    <tr>\n",
       "      <th>0</th>\n",
       "      <td>6</td>\n",
       "      <td>26</td>\n",
       "      <td>10.0</td>\n",
       "      <td>1</td>\n",
       "      <td>0</td>\n",
       "      <td>1</td>\n",
       "      <td>0</td>\n",
       "      <td>0</td>\n",
       "      <td>0</td>\n",
       "      <td>26</td>\n",
       "      <td>0</td>\n",
       "      <td>0</td>\n",
       "      <td>10.0</td>\n",
       "      <td>1</td>\n",
       "      <td>9.0</td>\n",
       "      <td>1</td>\n",
       "      <td>0</td>\n",
       "      <td>0</td>\n",
       "    </tr>\n",
       "    <tr>\n",
       "      <th>1</th>\n",
       "      <td>5</td>\n",
       "      <td>24</td>\n",
       "      <td>24.0</td>\n",
       "      <td>1</td>\n",
       "      <td>1</td>\n",
       "      <td>1</td>\n",
       "      <td>0</td>\n",
       "      <td>0</td>\n",
       "      <td>1</td>\n",
       "      <td>24</td>\n",
       "      <td>1</td>\n",
       "      <td>1</td>\n",
       "      <td>24.0</td>\n",
       "      <td>0</td>\n",
       "      <td>5.0</td>\n",
       "      <td>1</td>\n",
       "      <td>0</td>\n",
       "      <td>0</td>\n",
       "    </tr>\n",
       "    <tr>\n",
       "      <th>2</th>\n",
       "      <td>8</td>\n",
       "      <td>27</td>\n",
       "      <td>60.0</td>\n",
       "      <td>1</td>\n",
       "      <td>1</td>\n",
       "      <td>1</td>\n",
       "      <td>1</td>\n",
       "      <td>0</td>\n",
       "      <td>1</td>\n",
       "      <td>27</td>\n",
       "      <td>1</td>\n",
       "      <td>1</td>\n",
       "      <td>60.0</td>\n",
       "      <td>1</td>\n",
       "      <td>5.0</td>\n",
       "      <td>1</td>\n",
       "      <td>1</td>\n",
       "      <td>1</td>\n",
       "    </tr>\n",
       "    <tr>\n",
       "      <th>3</th>\n",
       "      <td>6</td>\n",
       "      <td>35</td>\n",
       "      <td>10.0</td>\n",
       "      <td>1</td>\n",
       "      <td>0</td>\n",
       "      <td>1</td>\n",
       "      <td>0</td>\n",
       "      <td>0</td>\n",
       "      <td>1</td>\n",
       "      <td>35</td>\n",
       "      <td>1</td>\n",
       "      <td>1</td>\n",
       "      <td>10.0</td>\n",
       "      <td>1</td>\n",
       "      <td>9.0</td>\n",
       "      <td>1</td>\n",
       "      <td>0</td>\n",
       "      <td>0</td>\n",
       "    </tr>\n",
       "    <tr>\n",
       "      <th>4</th>\n",
       "      <td>2</td>\n",
       "      <td>40</td>\n",
       "      <td>31.0</td>\n",
       "      <td>1</td>\n",
       "      <td>0</td>\n",
       "      <td>1</td>\n",
       "      <td>0</td>\n",
       "      <td>0</td>\n",
       "      <td>0</td>\n",
       "      <td>40</td>\n",
       "      <td>0</td>\n",
       "      <td>0</td>\n",
       "      <td>31.0</td>\n",
       "      <td>0</td>\n",
       "      <td>6.0</td>\n",
       "      <td>0</td>\n",
       "      <td>0</td>\n",
       "      <td>0</td>\n",
       "    </tr>\n",
       "  </tbody>\n",
       "</table>\n",
       "</div>"
      ],
      "text/plain": [
       "   result  age  contry_of_res  A1_Score  gender  A8_Score  jundice  \\\n",
       "0       6   26           10.0         1       0         1        0   \n",
       "1       5   24           24.0         1       1         1        0   \n",
       "2       8   27           60.0         1       1         1        1   \n",
       "3       6   35           10.0         1       0         1        0   \n",
       "4       2   40           31.0         1       0         1        0   \n",
       "\n",
       "   used_app_before  austim  age  A10_Score  austim  contry_of_res  A7_Score  \\\n",
       "0                0       0   26          0       0           10.0         1   \n",
       "1                0       1   24          1       1           24.0         0   \n",
       "2                0       1   27          1       1           60.0         1   \n",
       "3                0       1   35          1       1           10.0         1   \n",
       "4                0       0   40          0       0           31.0         0   \n",
       "\n",
       "   ethnicity  A4_Score  A5_Score  Class/ASD  \n",
       "0        9.0         1         0          0  \n",
       "1        5.0         1         0          0  \n",
       "2        5.0         1         1          1  \n",
       "3        9.0         1         0          0  \n",
       "4        6.0         0         0          0  "
      ]
     },
     "execution_count": 17,
     "metadata": {},
     "output_type": "execute_result"
    }
   ],
   "source": [
    "columns = list(best_features['feature'][best_features['type']=='best'])\n",
    "columns.append('Class/ASD')\n",
    "df = df[columns]\n",
    "df.head()"
   ]
  },
  {
   "cell_type": "code",
   "execution_count": 18,
   "metadata": {},
   "outputs": [],
   "source": [
    "X = df[columns]\n",
    "y = df['Class/ASD']"
   ]
  },
  {
   "cell_type": "code",
   "execution_count": 19,
   "metadata": {},
   "outputs": [
    {
     "data": {
      "image/png": "[encoded data removed]",
      "text/plain": [
       "<Figure size 1080x1080 with 2 Axes>"
      ]
     },
     "metadata": {
      "needs_background": "light"
     },
     "output_type": "display_data"
    }
   ],
   "source": [
    "import numpy as np\n",
    "import seaborn as sns\n",
    "import matplotlib.pyplot as plt\n",
    "%matplotlib inline\n",
    "\n",
    "correlation = df.corr(method='pearson')\n",
    "columns = correlation.nlargest(9, 'Class/ASD').index\n",
    "\n",
    "correlation_map = np.corrcoef(df[columns].values.T)\n",
    "fig, ax = plt.subplots(figsize=(15,15))      \n",
    "sns.set(font_scale=1.0)\n",
    "heatmap = sns.heatmap(correlation_map, annot=True, square=True, fmt='.2f', \n",
    "                      yticklabels=columns.values, xticklabels=columns.values)\n",
    "\n",
    "plt.show()"
   ]
  },
  {
   "cell_type": "code",
   "execution_count": 20,
   "metadata": {},
   "outputs": [],
   "source": [
    "X = df.iloc[:, :-1].values\n",
    "y = df.iloc[:, -1].values"
   ]
  },
  {
   "cell_type": "code",
   "execution_count": 21,
   "metadata": {},
   "outputs": [],
   "source": [
    "from sklearn.model_selection import train_test_split\n",
    "X_train, X_test, y_train, y_test = train_test_split(X, y, test_size=0.2, random_state=2021)"
   ]
  },
  {
   "cell_type": "code",
   "execution_count": 22,
   "metadata": {},
   "outputs": [],
   "source": [
    "from sklearn import metrics\n",
    "from sklearn.metrics import classification_report\n",
    "def Classification_results(y_true, y_pred):\n",
    "    # Making the Confusion Matrix\n",
    "    cm = metrics.confusion_matrix(y_true, y_pred)\n",
    "    acc = metrics.accuracy_score(y_true, y_pred)\n",
    "    Auc = metrics.roc_auc_score(y_true, y_pred)\n",
    "    report = classification_report(y_true, y_pred)\n",
    "    \n",
    "    print(f'Confusion Matrix: \\n{cm}')\n",
    "    print(f'accuracy_score: {acc}')\n",
    "    print(f'roc_auc_score: {Auc}')\n",
    "    print(f'report: \\n{report}')"
   ]
  },
  {
   "cell_type": "code",
   "execution_count": 27,
   "metadata": {},
   "outputs": [
    {
     "name": "stdout",
     "output_type": "stream",
     "text": [
      "Accuracy: 100.000%\n",
      "Confusion Matrix: \n",
      "[[103   0]\n",
      " [  0  35]]\n",
      "accuracy_score: 1.0\n",
      "roc_auc_score: 1.0\n",
      "report: \n",
      "              precision    recall  f1-score   support\n",
      "\n",
      "           0       1.00      1.00      1.00       103\n",
      "           1       1.00      1.00      1.00        35\n",
      "\n",
      "    accuracy                           1.00       138\n",
      "   macro avg       1.00      1.00      1.00       138\n",
      "weighted avg       1.00      1.00      1.00       138\n",
      "\n"
     ]
    }
   ],
   "source": [
    "from sklearn.linear_model import LogisticRegression\n",
    "\n",
    "model = LogisticRegression(random_state=2021, max_iter=500)\n",
    "model.fit(X_train, y_train)\n",
    "result = model.score(X_test, y_test)\n",
    "print(\"Accuracy: %.3f%%\" % (result*100.0))\n",
    "y_pred = model.predict(X_test)\n",
    "Classification_results(y_pred, y_test)"
   ]
  },
  {
   "cell_type": "code",
   "execution_count": 28,
   "metadata": {},
   "outputs": [
    {
     "name": "stdout",
     "output_type": "stream",
     "text": [
      "ROC AUC : 1.0000\n",
      "[1. 1. 1. 1. 1.]\n"
     ]
    },
    {
     "data": {
      "image/png": "[encoded data removed]",
      "text/plain": [
       "<Figure size 432x288 with 2 Axes>"
      ]
     },
     "metadata": {},
     "output_type": "display_data"
    }
   ],
   "source": [
    "# compute ROC AUC\n",
    "from sklearn.metrics import roc_auc_score\n",
    "\n",
    "ROC_AUC = roc_auc_score(y_test, y_pred)\n",
    "\n",
    "print('ROC AUC : {:.4f}'.format(ROC_AUC))\n",
    "\n",
    "from sklearn.metrics import plot_confusion_matrix\n",
    "from sklearn.model_selection import cross_val_score\n",
    "def results(model, X, y):\n",
    "    scores = cross_val_score(model, X, y)\n",
    "    print(scores)\n",
    "\n",
    "    plot_confusion_matrix(model, X, y)  \n",
    "    plt.show()  \n",
    "\n",
    "results(model, X, y)\n"
   ]
  },
  {
   "cell_type": "code",
   "execution_count": 31,
   "metadata": {},
   "outputs": [
    {
     "name": "stdout",
     "output_type": "stream",
     "text": [
      "[1. 1. 1. 1. 1. 1. 1. 1. 1. 1.]\n"
     ]
    }
   ],
   "source": [
    "from sklearn.model_selection import cross_val_score\n",
    "scores = cross_val_score(model, X, y, cv=10, scoring='accuracy')\n",
    "print(scores)"
   ]
  },
  {
   "cell_type": "code",
   "execution_count": 32,
   "metadata": {},
   "outputs": [
    {
     "data": {
      "text/plain": [
       "['fit_time', 'score_time', 'test_score']"
      ]
     },
     "execution_count": 32,
     "metadata": {},
     "output_type": "execute_result"
    }
   ],
   "source": [
    "from sklearn.model_selection import cross_validate\n",
    "\n",
    "cv_results = cross_validate(model, X, y, cv=3)\n",
    "sorted(cv_results.keys())"
   ]
  },
  {
   "cell_type": "code",
   "execution_count": 33,
   "metadata": {},
   "outputs": [
    {
     "data": {
      "text/plain": [
       "array([1., 1., 1.])"
      ]
     },
     "execution_count": 33,
     "metadata": {},
     "output_type": "execute_result"
    }
   ],
   "source": [
    "cv_results['test_score']"
   ]
  },
  {
   "cell_type": "code",
   "execution_count": 36,
   "metadata": {},
   "outputs": [
    {
     "name": "stdout",
     "output_type": "stream",
     "text": [
      "MSE: 0.000\n",
      "Bias: 0.000\n",
      "Variance: 0.000\n"
     ]
    }
   ],
   "source": [
    "# See Bias and variance\n",
    "from mlxtend.evaluate import bias_variance_decomp\n",
    "\n",
    "mse, bias, var = bias_variance_decomp(model, X_train, y_train, X_test, y_test, loss='mse', num_rounds=200, random_seed=1)\n",
    "# summarize results\n",
    "print('MSE: %.3f' % mse)\n",
    "print('Bias: %.3f' % bias)\n",
    "print('Variance: %.3f' % var)"
   ]
  },
  {
   "cell_type": "code",
   "execution_count": null,
   "metadata": {},
   "outputs": [],
   "source": []
  }
 ],
 "metadata": {
  "interpreter": {
   "hash": "06d551a9c38e3c9226fb791b081d443165cdefd6b8907d1070492d8de0992181"
  },
  "kernelspec": {
   "display_name": "Python 3.6.5 64-bit",
   "name": "python3"
  },
  "language_info": {
   "codemirror_mode": {
    "name": "ipython",
    "version": 3
   },
   "file_extension": ".py",
   "mimetype": "text/x-python",
   "name": "python",
   "nbconvert_exporter": "python",
   "pygments_lexer": "ipython3",
   "version": "3.8.5"
  },
  "orig_nbformat": 4
 },
 "nbformat": 4,
 "nbformat_minor": 2
}
